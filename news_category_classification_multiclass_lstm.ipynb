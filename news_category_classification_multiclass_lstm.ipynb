{
  "metadata": {
    "kernelspec": {
      "language": "python",
      "display_name": "Python 3",
      "name": "python3"
    },
    "language_info": {
      "pygments_lexer": "ipython3",
      "nbconvert_exporter": "python",
      "version": "3.6.4",
      "file_extension": ".py",
      "codemirror_mode": {
        "name": "ipython",
        "version": 3
      },
      "name": "python",
      "mimetype": "text/x-python"
    },
    "colab": {
      "provenance": [],
      "include_colab_link": true
    }
  },
  "nbformat_minor": 0,
  "nbformat": 4,
  "cells": [
    {
      "cell_type": "markdown",
      "metadata": {
        "id": "view-in-github",
        "colab_type": "text"
      },
      "source": [
        "<a href=\"https://colab.research.google.com/github/UEC-MaTa/OfficeWorkManualTrial/blob/main/news_category_classification_multiclass_lstm.ipynb\" target=\"_parent\"><img src=\"https://colab.research.google.com/assets/colab-badge.svg\" alt=\"Open In Colab\"/></a>"
      ]
    },
    {
      "cell_type": "markdown",
      "source": [
        "# **News Category Classification using LSTM**\n",
        "**News categories included in this dataset include business; science and technology; entertainment; and health.**\n",
        "\n",
        "**Different news articles that refer to the same news item (e.g., several articles about recently released employment statistics) are also categorized together.**"
      ],
      "metadata": {
        "id": "uZ9Klrj-7szv"
      }
    },
    {
      "cell_type": "code",
      "source": [
        "#importing libraries\n",
        "import pandas as pd\n",
        "import numpy as np\n",
        "import seaborn as sns\n",
        "import re\n",
        "from tensorflow import keras\n",
        "from nltk.stem.porter import PorterStemmer\n",
        "from nltk.corpus import stopwords\n",
        "from tensorflow.keras.preprocessing.text import one_hot\n",
        "from tensorflow.keras.preprocessing.sequence import pad_sequences\n",
        "from sklearn.preprocessing import LabelEncoder\n",
        "from sklearn.model_selection import train_test_split\n",
        "from tensorflow.keras.layers import Embedding,LSTM,Dense,Dropout\n",
        "from tensorflow.keras.models import Sequential\n",
        "from keras.utils.np_utils import to_categorical"
      ],
      "metadata": {
        "execution": {
          "iopub.status.busy": "2021-07-08T18:27:22.986931Z",
          "iopub.execute_input": "2021-07-08T18:27:22.9873Z",
          "iopub.status.idle": "2021-07-08T18:27:22.992726Z",
          "shell.execute_reply.started": "2021-07-08T18:27:22.987265Z",
          "shell.execute_reply": "2021-07-08T18:27:22.991881Z"
        },
        "trusted": true,
        "id": "enX9oeyA7sz7"
      },
      "execution_count": null,
      "outputs": []
    },
    {
      "cell_type": "code",
      "source": [
        "from google.colab import drive\n",
        "drive.mount('/content/drive')"
      ],
      "metadata": {
        "colab": {
          "base_uri": "https://localhost:8080/"
        },
        "id": "NH9N7XEfufzF",
        "outputId": "3689c7c9-e673-4751-c2a3-81ff36d4850e"
      },
      "execution_count": null,
      "outputs": [
        {
          "output_type": "stream",
          "name": "stdout",
          "text": [
            "Mounted at /content/drive\n"
          ]
        }
      ]
    },
    {
      "cell_type": "code",
      "source": [
        "#importing the dataset\n",
        "dir = pd.read_csv('/content/drive/MyDrive/Tensorflow/NewsAggregator/uci-news-aggregator.csv')\n",
        "pd.set_option('display.max_columns', None)\n",
        "dir.head()"
      ],
      "metadata": {
        "execution": {
          "iopub.status.busy": "2021-07-08T18:27:23.00017Z",
          "iopub.execute_input": "2021-07-08T18:27:23.000437Z",
          "iopub.status.idle": "2021-07-08T18:27:24.33925Z",
          "shell.execute_reply.started": "2021-07-08T18:27:23.000413Z",
          "shell.execute_reply": "2021-07-08T18:27:24.338303Z"
        },
        "trusted": true,
        "id": "zNDppLHh7sz-",
        "colab": {
          "base_uri": "https://localhost:8080/",
          "height": 669
        },
        "outputId": "33424f4d-bf58-4ea8-b7d6-0cb9e215c2f9"
      },
      "execution_count": 3,
      "outputs": [
        {
          "output_type": "execute_result",
          "data": {
            "text/plain": [
              "   ID                                              TITLE  \\\n",
              "0   1  Fed official says weak data caused by weather,...   \n",
              "1   2  Fed's Charles Plosser sees high bar for change...   \n",
              "2   3  US open: Stocks fall after Fed official hints ...   \n",
              "3   4  Fed risks falling 'behind the curve', Charles ...   \n",
              "4   5  Fed's Plosser: Nasty Weather Has Curbed Job Gr...   \n",
              "\n",
              "                                                 URL          PUBLISHER  \\\n",
              "0  http://www.latimes.com/business/money/la-fi-mo...  Los Angeles Times   \n",
              "1  http://www.livemint.com/Politics/H2EvwJSK2VE6O...           Livemint   \n",
              "2  http://www.ifamagazine.com/news/us-open-stocks...       IFA Magazine   \n",
              "3  http://www.ifamagazine.com/news/fed-risks-fall...       IFA Magazine   \n",
              "4  http://www.moneynews.com/Economy/federal-reser...          Moneynews   \n",
              "\n",
              "  CATEGORY                          STORY             HOSTNAME      TIMESTAMP  \n",
              "0        b  ddUyU0VZz0BRneMioxUPQVP6sIxvM      www.latimes.com  1394470370698  \n",
              "1        b  ddUyU0VZz0BRneMioxUPQVP6sIxvM     www.livemint.com  1394470371207  \n",
              "2        b  ddUyU0VZz0BRneMioxUPQVP6sIxvM  www.ifamagazine.com  1394470371550  \n",
              "3        b  ddUyU0VZz0BRneMioxUPQVP6sIxvM  www.ifamagazine.com  1394470371793  \n",
              "4        b  ddUyU0VZz0BRneMioxUPQVP6sIxvM    www.moneynews.com  1394470372027  "
            ],
            "text/html": [
              "\n",
              "  <div id=\"df-b14f5cc7-bfa6-4035-a388-63d651a6c664\">\n",
              "    <div class=\"colab-df-container\">\n",
              "      <div>\n",
              "<style scoped>\n",
              "    .dataframe tbody tr th:only-of-type {\n",
              "        vertical-align: middle;\n",
              "    }\n",
              "\n",
              "    .dataframe tbody tr th {\n",
              "        vertical-align: top;\n",
              "    }\n",
              "\n",
              "    .dataframe thead th {\n",
              "        text-align: right;\n",
              "    }\n",
              "</style>\n",
              "<table border=\"1\" class=\"dataframe\">\n",
              "  <thead>\n",
              "    <tr style=\"text-align: right;\">\n",
              "      <th></th>\n",
              "      <th>ID</th>\n",
              "      <th>TITLE</th>\n",
              "      <th>URL</th>\n",
              "      <th>PUBLISHER</th>\n",
              "      <th>CATEGORY</th>\n",
              "      <th>STORY</th>\n",
              "      <th>HOSTNAME</th>\n",
              "      <th>TIMESTAMP</th>\n",
              "    </tr>\n",
              "  </thead>\n",
              "  <tbody>\n",
              "    <tr>\n",
              "      <th>0</th>\n",
              "      <td>1</td>\n",
              "      <td>Fed official says weak data caused by weather,...</td>\n",
              "      <td>http://www.latimes.com/business/money/la-fi-mo...</td>\n",
              "      <td>Los Angeles Times</td>\n",
              "      <td>b</td>\n",
              "      <td>ddUyU0VZz0BRneMioxUPQVP6sIxvM</td>\n",
              "      <td>www.latimes.com</td>\n",
              "      <td>1394470370698</td>\n",
              "    </tr>\n",
              "    <tr>\n",
              "      <th>1</th>\n",
              "      <td>2</td>\n",
              "      <td>Fed's Charles Plosser sees high bar for change...</td>\n",
              "      <td>http://www.livemint.com/Politics/H2EvwJSK2VE6O...</td>\n",
              "      <td>Livemint</td>\n",
              "      <td>b</td>\n",
              "      <td>ddUyU0VZz0BRneMioxUPQVP6sIxvM</td>\n",
              "      <td>www.livemint.com</td>\n",
              "      <td>1394470371207</td>\n",
              "    </tr>\n",
              "    <tr>\n",
              "      <th>2</th>\n",
              "      <td>3</td>\n",
              "      <td>US open: Stocks fall after Fed official hints ...</td>\n",
              "      <td>http://www.ifamagazine.com/news/us-open-stocks...</td>\n",
              "      <td>IFA Magazine</td>\n",
              "      <td>b</td>\n",
              "      <td>ddUyU0VZz0BRneMioxUPQVP6sIxvM</td>\n",
              "      <td>www.ifamagazine.com</td>\n",
              "      <td>1394470371550</td>\n",
              "    </tr>\n",
              "    <tr>\n",
              "      <th>3</th>\n",
              "      <td>4</td>\n",
              "      <td>Fed risks falling 'behind the curve', Charles ...</td>\n",
              "      <td>http://www.ifamagazine.com/news/fed-risks-fall...</td>\n",
              "      <td>IFA Magazine</td>\n",
              "      <td>b</td>\n",
              "      <td>ddUyU0VZz0BRneMioxUPQVP6sIxvM</td>\n",
              "      <td>www.ifamagazine.com</td>\n",
              "      <td>1394470371793</td>\n",
              "    </tr>\n",
              "    <tr>\n",
              "      <th>4</th>\n",
              "      <td>5</td>\n",
              "      <td>Fed's Plosser: Nasty Weather Has Curbed Job Gr...</td>\n",
              "      <td>http://www.moneynews.com/Economy/federal-reser...</td>\n",
              "      <td>Moneynews</td>\n",
              "      <td>b</td>\n",
              "      <td>ddUyU0VZz0BRneMioxUPQVP6sIxvM</td>\n",
              "      <td>www.moneynews.com</td>\n",
              "      <td>1394470372027</td>\n",
              "    </tr>\n",
              "  </tbody>\n",
              "</table>\n",
              "</div>\n",
              "      <button class=\"colab-df-convert\" onclick=\"convertToInteractive('df-b14f5cc7-bfa6-4035-a388-63d651a6c664')\"\n",
              "              title=\"Convert this dataframe to an interactive table.\"\n",
              "              style=\"display:none;\">\n",
              "        \n",
              "  <svg xmlns=\"http://www.w3.org/2000/svg\" height=\"24px\"viewBox=\"0 0 24 24\"\n",
              "       width=\"24px\">\n",
              "    <path d=\"M0 0h24v24H0V0z\" fill=\"none\"/>\n",
              "    <path d=\"M18.56 5.44l.94 2.06.94-2.06 2.06-.94-2.06-.94-.94-2.06-.94 2.06-2.06.94zm-11 1L8.5 8.5l.94-2.06 2.06-.94-2.06-.94L8.5 2.5l-.94 2.06-2.06.94zm10 10l.94 2.06.94-2.06 2.06-.94-2.06-.94-.94-2.06-.94 2.06-2.06.94z\"/><path d=\"M17.41 7.96l-1.37-1.37c-.4-.4-.92-.59-1.43-.59-.52 0-1.04.2-1.43.59L10.3 9.45l-7.72 7.72c-.78.78-.78 2.05 0 2.83L4 21.41c.39.39.9.59 1.41.59.51 0 1.02-.2 1.41-.59l7.78-7.78 2.81-2.81c.8-.78.8-2.07 0-2.86zM5.41 20L4 18.59l7.72-7.72 1.47 1.35L5.41 20z\"/>\n",
              "  </svg>\n",
              "      </button>\n",
              "      \n",
              "  <style>\n",
              "    .colab-df-container {\n",
              "      display:flex;\n",
              "      flex-wrap:wrap;\n",
              "      gap: 12px;\n",
              "    }\n",
              "\n",
              "    .colab-df-convert {\n",
              "      background-color: #E8F0FE;\n",
              "      border: none;\n",
              "      border-radius: 50%;\n",
              "      cursor: pointer;\n",
              "      display: none;\n",
              "      fill: #1967D2;\n",
              "      height: 32px;\n",
              "      padding: 0 0 0 0;\n",
              "      width: 32px;\n",
              "    }\n",
              "\n",
              "    .colab-df-convert:hover {\n",
              "      background-color: #E2EBFA;\n",
              "      box-shadow: 0px 1px 2px rgba(60, 64, 67, 0.3), 0px 1px 3px 1px rgba(60, 64, 67, 0.15);\n",
              "      fill: #174EA6;\n",
              "    }\n",
              "\n",
              "    [theme=dark] .colab-df-convert {\n",
              "      background-color: #3B4455;\n",
              "      fill: #D2E3FC;\n",
              "    }\n",
              "\n",
              "    [theme=dark] .colab-df-convert:hover {\n",
              "      background-color: #434B5C;\n",
              "      box-shadow: 0px 1px 3px 1px rgba(0, 0, 0, 0.15);\n",
              "      filter: drop-shadow(0px 1px 2px rgba(0, 0, 0, 0.3));\n",
              "      fill: #FFFFFF;\n",
              "    }\n",
              "  </style>\n",
              "\n",
              "      <script>\n",
              "        const buttonEl =\n",
              "          document.querySelector('#df-b14f5cc7-bfa6-4035-a388-63d651a6c664 button.colab-df-convert');\n",
              "        buttonEl.style.display =\n",
              "          google.colab.kernel.accessAllowed ? 'block' : 'none';\n",
              "\n",
              "        async function convertToInteractive(key) {\n",
              "          const element = document.querySelector('#df-b14f5cc7-bfa6-4035-a388-63d651a6c664');\n",
              "          const dataTable =\n",
              "            await google.colab.kernel.invokeFunction('convertToInteractive',\n",
              "                                                     [key], {});\n",
              "          if (!dataTable) return;\n",
              "\n",
              "          const docLinkHtml = 'Like what you see? Visit the ' +\n",
              "            '<a target=\"_blank\" href=https://colab.research.google.com/notebooks/data_table.ipynb>data table notebook</a>'\n",
              "            + ' to learn more about interactive tables.';\n",
              "          element.innerHTML = '';\n",
              "          dataTable['output_type'] = 'display_data';\n",
              "          await google.colab.output.renderOutput(dataTable, element);\n",
              "          const docLink = document.createElement('div');\n",
              "          docLink.innerHTML = docLinkHtml;\n",
              "          element.appendChild(docLink);\n",
              "        }\n",
              "      </script>\n",
              "    </div>\n",
              "  </div>\n",
              "  "
            ]
          },
          "metadata": {},
          "execution_count": 3
        }
      ]
    },
    {
      "cell_type": "markdown",
      "source": [
        "**WE HAVE ONLY TWO FEATURES OF USE**\n",
        "\n",
        "1. **TITLE**\n",
        "2. **CATEGORY**"
      ],
      "metadata": {
        "id": "bxRWgH9R7sz_"
      }
    },
    {
      "cell_type": "code",
      "source": [
        "#creating a new dataset with only relevant features.\n",
        "ds = dir[['TITLE','CATEGORY']]\n",
        "ds.head()"
      ],
      "metadata": {
        "execution": {
          "iopub.status.busy": "2021-07-08T18:27:24.340835Z",
          "iopub.execute_input": "2021-07-08T18:27:24.341181Z",
          "iopub.status.idle": "2021-07-08T18:27:24.361142Z",
          "shell.execute_reply.started": "2021-07-08T18:27:24.341144Z",
          "shell.execute_reply": "2021-07-08T18:27:24.360338Z"
        },
        "trusted": true,
        "id": "5IvO5OUP7s0A",
        "colab": {
          "base_uri": "https://localhost:8080/",
          "height": 206
        },
        "outputId": "274816a2-5ddd-42b4-dc57-2c181dd928a4"
      },
      "execution_count": 4,
      "outputs": [
        {
          "output_type": "execute_result",
          "data": {
            "text/plain": [
              "                                               TITLE CATEGORY\n",
              "0  Fed official says weak data caused by weather,...        b\n",
              "1  Fed's Charles Plosser sees high bar for change...        b\n",
              "2  US open: Stocks fall after Fed official hints ...        b\n",
              "3  Fed risks falling 'behind the curve', Charles ...        b\n",
              "4  Fed's Plosser: Nasty Weather Has Curbed Job Gr...        b"
            ],
            "text/html": [
              "\n",
              "  <div id=\"df-81084545-78e6-4048-b39d-9bc83bf6e5ca\">\n",
              "    <div class=\"colab-df-container\">\n",
              "      <div>\n",
              "<style scoped>\n",
              "    .dataframe tbody tr th:only-of-type {\n",
              "        vertical-align: middle;\n",
              "    }\n",
              "\n",
              "    .dataframe tbody tr th {\n",
              "        vertical-align: top;\n",
              "    }\n",
              "\n",
              "    .dataframe thead th {\n",
              "        text-align: right;\n",
              "    }\n",
              "</style>\n",
              "<table border=\"1\" class=\"dataframe\">\n",
              "  <thead>\n",
              "    <tr style=\"text-align: right;\">\n",
              "      <th></th>\n",
              "      <th>TITLE</th>\n",
              "      <th>CATEGORY</th>\n",
              "    </tr>\n",
              "  </thead>\n",
              "  <tbody>\n",
              "    <tr>\n",
              "      <th>0</th>\n",
              "      <td>Fed official says weak data caused by weather,...</td>\n",
              "      <td>b</td>\n",
              "    </tr>\n",
              "    <tr>\n",
              "      <th>1</th>\n",
              "      <td>Fed's Charles Plosser sees high bar for change...</td>\n",
              "      <td>b</td>\n",
              "    </tr>\n",
              "    <tr>\n",
              "      <th>2</th>\n",
              "      <td>US open: Stocks fall after Fed official hints ...</td>\n",
              "      <td>b</td>\n",
              "    </tr>\n",
              "    <tr>\n",
              "      <th>3</th>\n",
              "      <td>Fed risks falling 'behind the curve', Charles ...</td>\n",
              "      <td>b</td>\n",
              "    </tr>\n",
              "    <tr>\n",
              "      <th>4</th>\n",
              "      <td>Fed's Plosser: Nasty Weather Has Curbed Job Gr...</td>\n",
              "      <td>b</td>\n",
              "    </tr>\n",
              "  </tbody>\n",
              "</table>\n",
              "</div>\n",
              "      <button class=\"colab-df-convert\" onclick=\"convertToInteractive('df-81084545-78e6-4048-b39d-9bc83bf6e5ca')\"\n",
              "              title=\"Convert this dataframe to an interactive table.\"\n",
              "              style=\"display:none;\">\n",
              "        \n",
              "  <svg xmlns=\"http://www.w3.org/2000/svg\" height=\"24px\"viewBox=\"0 0 24 24\"\n",
              "       width=\"24px\">\n",
              "    <path d=\"M0 0h24v24H0V0z\" fill=\"none\"/>\n",
              "    <path d=\"M18.56 5.44l.94 2.06.94-2.06 2.06-.94-2.06-.94-.94-2.06-.94 2.06-2.06.94zm-11 1L8.5 8.5l.94-2.06 2.06-.94-2.06-.94L8.5 2.5l-.94 2.06-2.06.94zm10 10l.94 2.06.94-2.06 2.06-.94-2.06-.94-.94-2.06-.94 2.06-2.06.94z\"/><path d=\"M17.41 7.96l-1.37-1.37c-.4-.4-.92-.59-1.43-.59-.52 0-1.04.2-1.43.59L10.3 9.45l-7.72 7.72c-.78.78-.78 2.05 0 2.83L4 21.41c.39.39.9.59 1.41.59.51 0 1.02-.2 1.41-.59l7.78-7.78 2.81-2.81c.8-.78.8-2.07 0-2.86zM5.41 20L4 18.59l7.72-7.72 1.47 1.35L5.41 20z\"/>\n",
              "  </svg>\n",
              "      </button>\n",
              "      \n",
              "  <style>\n",
              "    .colab-df-container {\n",
              "      display:flex;\n",
              "      flex-wrap:wrap;\n",
              "      gap: 12px;\n",
              "    }\n",
              "\n",
              "    .colab-df-convert {\n",
              "      background-color: #E8F0FE;\n",
              "      border: none;\n",
              "      border-radius: 50%;\n",
              "      cursor: pointer;\n",
              "      display: none;\n",
              "      fill: #1967D2;\n",
              "      height: 32px;\n",
              "      padding: 0 0 0 0;\n",
              "      width: 32px;\n",
              "    }\n",
              "\n",
              "    .colab-df-convert:hover {\n",
              "      background-color: #E2EBFA;\n",
              "      box-shadow: 0px 1px 2px rgba(60, 64, 67, 0.3), 0px 1px 3px 1px rgba(60, 64, 67, 0.15);\n",
              "      fill: #174EA6;\n",
              "    }\n",
              "\n",
              "    [theme=dark] .colab-df-convert {\n",
              "      background-color: #3B4455;\n",
              "      fill: #D2E3FC;\n",
              "    }\n",
              "\n",
              "    [theme=dark] .colab-df-convert:hover {\n",
              "      background-color: #434B5C;\n",
              "      box-shadow: 0px 1px 3px 1px rgba(0, 0, 0, 0.15);\n",
              "      filter: drop-shadow(0px 1px 2px rgba(0, 0, 0, 0.3));\n",
              "      fill: #FFFFFF;\n",
              "    }\n",
              "  </style>\n",
              "\n",
              "      <script>\n",
              "        const buttonEl =\n",
              "          document.querySelector('#df-81084545-78e6-4048-b39d-9bc83bf6e5ca button.colab-df-convert');\n",
              "        buttonEl.style.display =\n",
              "          google.colab.kernel.accessAllowed ? 'block' : 'none';\n",
              "\n",
              "        async function convertToInteractive(key) {\n",
              "          const element = document.querySelector('#df-81084545-78e6-4048-b39d-9bc83bf6e5ca');\n",
              "          const dataTable =\n",
              "            await google.colab.kernel.invokeFunction('convertToInteractive',\n",
              "                                                     [key], {});\n",
              "          if (!dataTable) return;\n",
              "\n",
              "          const docLinkHtml = 'Like what you see? Visit the ' +\n",
              "            '<a target=\"_blank\" href=https://colab.research.google.com/notebooks/data_table.ipynb>data table notebook</a>'\n",
              "            + ' to learn more about interactive tables.';\n",
              "          element.innerHTML = '';\n",
              "          dataTable['output_type'] = 'display_data';\n",
              "          await google.colab.output.renderOutput(dataTable, element);\n",
              "          const docLink = document.createElement('div');\n",
              "          docLink.innerHTML = docLinkHtml;\n",
              "          element.appendChild(docLink);\n",
              "        }\n",
              "      </script>\n",
              "    </div>\n",
              "  </div>\n",
              "  "
            ]
          },
          "metadata": {},
          "execution_count": 4
        }
      ]
    },
    {
      "cell_type": "markdown",
      "source": [
        "**HERE YOU CAN SEE THAT ALL CATEGORIES ARE IN ORDER(ALL B's TOGETHER AND SO ON), THEREFORE SHUFFLING THEM FOR OUR CONVENIENCE**"
      ],
      "metadata": {
        "id": "3LfwtwMR7s0B"
      }
    },
    {
      "cell_type": "markdown",
      "source": [
        "**pandasの行・列をランダムサンプリング（抽出）する .sample()**\n",
        "pandas.DataFrame, Seriesのsample()メソッドで、行・列または要素をランダムに抽出（ランダムサンプリング）できる。大きいサイズのpandas.DataFrame, Seriesのデータを確認するときに便利。引数nで抽出する行数・列数を指定できる。**引数fracで抽出する行・列の割合を指定できる。1だと100%。**\n",
        "https://note.nkmk.me/python-pandas-sample/\n",
        "conti_uselog = conti_uselog.sample(frac=1).reset_index(drop=True)"
      ],
      "metadata": {
        "id": "DRwWIL7tNkCz"
      }
    },
    {
      "cell_type": "code",
      "source": [
        "#shuffling rows with the help of sample, here (frac = 1) means return all rows\n",
        "ds = ds.sample(frac=1).reset_index(drop=True)\n",
        "ds.head()"
      ],
      "metadata": {
        "execution": {
          "iopub.status.busy": "2021-07-08T18:27:24.362948Z",
          "iopub.execute_input": "2021-07-08T18:27:24.363328Z",
          "iopub.status.idle": "2021-07-08T18:27:24.465345Z",
          "shell.execute_reply.started": "2021-07-08T18:27:24.363291Z",
          "shell.execute_reply": "2021-07-08T18:27:24.464563Z"
        },
        "trusted": true,
        "id": "h2VQxtTA7s0B",
        "colab": {
          "base_uri": "https://localhost:8080/",
          "height": 206
        },
        "outputId": "6a925dd6-638c-458d-8d2f-c6466077aa2b"
      },
      "execution_count": 5,
      "outputs": [
        {
          "output_type": "execute_result",
          "data": {
            "text/plain": [
              "                                               TITLE CATEGORY\n",
              "0  GoPro shares climb drastically on first day of...        b\n",
              "1                      HEALTH: Autism and pesticides        m\n",
              "2  Gym, Tanning, Fighting? 'The Situation' Of The...        e\n",
              "3  Music video shot in airport by stranded travel...        e\n",
              "4     World Trade Center ship found to be from 1770s        t"
            ],
            "text/html": [
              "\n",
              "  <div id=\"df-cfd7b9ed-b091-46f5-bef0-f14ef2beb452\">\n",
              "    <div class=\"colab-df-container\">\n",
              "      <div>\n",
              "<style scoped>\n",
              "    .dataframe tbody tr th:only-of-type {\n",
              "        vertical-align: middle;\n",
              "    }\n",
              "\n",
              "    .dataframe tbody tr th {\n",
              "        vertical-align: top;\n",
              "    }\n",
              "\n",
              "    .dataframe thead th {\n",
              "        text-align: right;\n",
              "    }\n",
              "</style>\n",
              "<table border=\"1\" class=\"dataframe\">\n",
              "  <thead>\n",
              "    <tr style=\"text-align: right;\">\n",
              "      <th></th>\n",
              "      <th>TITLE</th>\n",
              "      <th>CATEGORY</th>\n",
              "    </tr>\n",
              "  </thead>\n",
              "  <tbody>\n",
              "    <tr>\n",
              "      <th>0</th>\n",
              "      <td>GoPro shares climb drastically on first day of...</td>\n",
              "      <td>b</td>\n",
              "    </tr>\n",
              "    <tr>\n",
              "      <th>1</th>\n",
              "      <td>HEALTH: Autism and pesticides</td>\n",
              "      <td>m</td>\n",
              "    </tr>\n",
              "    <tr>\n",
              "      <th>2</th>\n",
              "      <td>Gym, Tanning, Fighting? 'The Situation' Of The...</td>\n",
              "      <td>e</td>\n",
              "    </tr>\n",
              "    <tr>\n",
              "      <th>3</th>\n",
              "      <td>Music video shot in airport by stranded travel...</td>\n",
              "      <td>e</td>\n",
              "    </tr>\n",
              "    <tr>\n",
              "      <th>4</th>\n",
              "      <td>World Trade Center ship found to be from 1770s</td>\n",
              "      <td>t</td>\n",
              "    </tr>\n",
              "  </tbody>\n",
              "</table>\n",
              "</div>\n",
              "      <button class=\"colab-df-convert\" onclick=\"convertToInteractive('df-cfd7b9ed-b091-46f5-bef0-f14ef2beb452')\"\n",
              "              title=\"Convert this dataframe to an interactive table.\"\n",
              "              style=\"display:none;\">\n",
              "        \n",
              "  <svg xmlns=\"http://www.w3.org/2000/svg\" height=\"24px\"viewBox=\"0 0 24 24\"\n",
              "       width=\"24px\">\n",
              "    <path d=\"M0 0h24v24H0V0z\" fill=\"none\"/>\n",
              "    <path d=\"M18.56 5.44l.94 2.06.94-2.06 2.06-.94-2.06-.94-.94-2.06-.94 2.06-2.06.94zm-11 1L8.5 8.5l.94-2.06 2.06-.94-2.06-.94L8.5 2.5l-.94 2.06-2.06.94zm10 10l.94 2.06.94-2.06 2.06-.94-2.06-.94-.94-2.06-.94 2.06-2.06.94z\"/><path d=\"M17.41 7.96l-1.37-1.37c-.4-.4-.92-.59-1.43-.59-.52 0-1.04.2-1.43.59L10.3 9.45l-7.72 7.72c-.78.78-.78 2.05 0 2.83L4 21.41c.39.39.9.59 1.41.59.51 0 1.02-.2 1.41-.59l7.78-7.78 2.81-2.81c.8-.78.8-2.07 0-2.86zM5.41 20L4 18.59l7.72-7.72 1.47 1.35L5.41 20z\"/>\n",
              "  </svg>\n",
              "      </button>\n",
              "      \n",
              "  <style>\n",
              "    .colab-df-container {\n",
              "      display:flex;\n",
              "      flex-wrap:wrap;\n",
              "      gap: 12px;\n",
              "    }\n",
              "\n",
              "    .colab-df-convert {\n",
              "      background-color: #E8F0FE;\n",
              "      border: none;\n",
              "      border-radius: 50%;\n",
              "      cursor: pointer;\n",
              "      display: none;\n",
              "      fill: #1967D2;\n",
              "      height: 32px;\n",
              "      padding: 0 0 0 0;\n",
              "      width: 32px;\n",
              "    }\n",
              "\n",
              "    .colab-df-convert:hover {\n",
              "      background-color: #E2EBFA;\n",
              "      box-shadow: 0px 1px 2px rgba(60, 64, 67, 0.3), 0px 1px 3px 1px rgba(60, 64, 67, 0.15);\n",
              "      fill: #174EA6;\n",
              "    }\n",
              "\n",
              "    [theme=dark] .colab-df-convert {\n",
              "      background-color: #3B4455;\n",
              "      fill: #D2E3FC;\n",
              "    }\n",
              "\n",
              "    [theme=dark] .colab-df-convert:hover {\n",
              "      background-color: #434B5C;\n",
              "      box-shadow: 0px 1px 3px 1px rgba(0, 0, 0, 0.15);\n",
              "      filter: drop-shadow(0px 1px 2px rgba(0, 0, 0, 0.3));\n",
              "      fill: #FFFFFF;\n",
              "    }\n",
              "  </style>\n",
              "\n",
              "      <script>\n",
              "        const buttonEl =\n",
              "          document.querySelector('#df-cfd7b9ed-b091-46f5-bef0-f14ef2beb452 button.colab-df-convert');\n",
              "        buttonEl.style.display =\n",
              "          google.colab.kernel.accessAllowed ? 'block' : 'none';\n",
              "\n",
              "        async function convertToInteractive(key) {\n",
              "          const element = document.querySelector('#df-cfd7b9ed-b091-46f5-bef0-f14ef2beb452');\n",
              "          const dataTable =\n",
              "            await google.colab.kernel.invokeFunction('convertToInteractive',\n",
              "                                                     [key], {});\n",
              "          if (!dataTable) return;\n",
              "\n",
              "          const docLinkHtml = 'Like what you see? Visit the ' +\n",
              "            '<a target=\"_blank\" href=https://colab.research.google.com/notebooks/data_table.ipynb>data table notebook</a>'\n",
              "            + ' to learn more about interactive tables.';\n",
              "          element.innerHTML = '';\n",
              "          dataTable['output_type'] = 'display_data';\n",
              "          await google.colab.output.renderOutput(dataTable, element);\n",
              "          const docLink = document.createElement('div');\n",
              "          docLink.innerHTML = docLinkHtml;\n",
              "          element.appendChild(docLink);\n",
              "        }\n",
              "      </script>\n",
              "    </div>\n",
              "  </div>\n",
              "  "
            ]
          },
          "metadata": {},
          "execution_count": 5
        }
      ]
    },
    {
      "cell_type": "markdown",
      "source": [
        "**DATASET IS NOW SHUFFLED**"
      ],
      "metadata": {
        "id": "KN1JmOeU7s0C"
      }
    },
    {
      "cell_type": "code",
      "source": [
        "#checking for null values\n",
        "ds.isnull().sum()"
      ],
      "metadata": {
        "execution": {
          "iopub.status.busy": "2021-07-08T18:27:24.467042Z",
          "iopub.execute_input": "2021-07-08T18:27:24.467404Z",
          "iopub.status.idle": "2021-07-08T18:27:24.570996Z",
          "shell.execute_reply.started": "2021-07-08T18:27:24.467366Z",
          "shell.execute_reply": "2021-07-08T18:27:24.570058Z"
        },
        "trusted": true,
        "id": "DrDQ597_7s0C",
        "colab": {
          "base_uri": "https://localhost:8080/"
        },
        "outputId": "ae159f7b-314b-40ed-fcc5-e18408c9b9d0"
      },
      "execution_count": 6,
      "outputs": [
        {
          "output_type": "execute_result",
          "data": {
            "text/plain": [
              "TITLE       0\n",
              "CATEGORY    0\n",
              "dtype: int64"
            ]
          },
          "metadata": {},
          "execution_count": 6
        }
      ]
    },
    {
      "cell_type": "markdown",
      "source": [
        "\n",
        "**NO NULL VALUES FOUND**"
      ],
      "metadata": {
        "id": "SwlWwggQ7s0D"
      }
    },
    {
      "cell_type": "code",
      "source": [
        "#plotting graph for categories\n",
        "sns.countplot(x = 'CATEGORY',data = ds)"
      ],
      "metadata": {
        "execution": {
          "iopub.status.busy": "2021-07-08T18:27:24.57255Z",
          "iopub.execute_input": "2021-07-08T18:27:24.572934Z",
          "iopub.status.idle": "2021-07-08T18:27:25.080321Z",
          "shell.execute_reply.started": "2021-07-08T18:27:24.572896Z",
          "shell.execute_reply": "2021-07-08T18:27:25.07936Z"
        },
        "trusted": true,
        "id": "FHGvLKG47s0D",
        "colab": {
          "base_uri": "https://localhost:8080/",
          "height": 473
        },
        "outputId": "7b4594cc-1f76-4a9b-a388-463fcc0de7ed"
      },
      "execution_count": 7,
      "outputs": [
        {
          "output_type": "execute_result",
          "data": {
            "text/plain": [
              "<Axes: xlabel='CATEGORY', ylabel='count'>"
            ]
          },
          "metadata": {},
          "execution_count": 7
        },
        {
          "output_type": "display_data",
          "data": {
            "text/plain": [
              "<Figure size 640x480 with 1 Axes>"
            ],
            "image/png": "[encoded data removed]"
          },
          "metadata": {}
        }
      ]
    },
    {
      "cell_type": "markdown",
      "source": [
        "**THERE ARE FOUR TYPES OF CATEGORIES-**\n",
        "1. **b : business (~115000)**\n",
        "2. **t : science and technology (~110000)**\n",
        "3. **e : entertainment (~150000)**\n",
        "4. **m : health (~40000)**\n"
      ],
      "metadata": {
        "id": "GuUgZU8e7s0E"
      }
    },
    {
      "cell_type": "markdown",
      "source": [
        "**NOW MOVING ONTO CLEANING AND PREPROCESSING OF THE TEXT DATA**"
      ],
      "metadata": {
        "id": "MEgV6AFp7s0E"
      }
    },
    {
      "cell_type": "code",
      "source": [
        "#Google Colabでは、nltk、'stopwords'ダウンロードが必要？\n",
        "import nltk\n",
        "nltk.download('stopwords')"
      ],
      "metadata": {
        "colab": {
          "base_uri": "https://localhost:8080/"
        },
        "id": "_wzerHN6hm7J",
        "outputId": "35f01c92-e09c-4346-d518-f0aab3f588ec"
      },
      "execution_count": 16,
      "outputs": [
        {
          "output_type": "stream",
          "name": "stderr",
          "text": [
            "[nltk_data] Downloading package stopwords to /root/nltk_data...\n",
            "[nltk_data]   Unzipping corpora/stopwords.zip.\n"
          ]
        },
        {
          "output_type": "execute_result",
          "data": {
            "text/plain": [
              "True"
            ]
          },
          "metadata": {},
          "execution_count": 16
        }
      ]
    },
    {
      "cell_type": "code",
      "source": [
        "#cleaning and preprocessing the text\n",
        "\n",
        "cleaned = []\n",
        "for i in range(0,len(ds)):\n",
        "\n",
        "    #removing any other words than (a-z) and (A-Z)\n",
        "    msg = re.sub('[^a-zA-Z]',' ',ds['TITLE'][i])\n",
        "                  #[^a-zA-Z] 「^」文字列の文頭,「a-zA-Z」英半角小文字の検索\n",
        "\n",
        "    #converting all texts to lower case\n",
        "    msg = msg.lower()\n",
        "\n",
        "    #tokenizing\n",
        "    msg = msg.split() #文字列を、単語ごとに分ける\n",
        "    \"\"\" ★確認\n",
        "    before: gopro shares climb drastically on first day of trading\n",
        "    after: ['gopro', 'shares', 'climb', 'drastically', 'on', 'first', 'day', 'of', 'trading']\n",
        "    \"\"\"\n",
        "\n",
        "    #stemming and removing stopwords\n",
        "    ps = PorterStemmer()\n",
        "    msg = [ps.stem(words) for words in msg if not words in set(stopwords.words('english'))]\n",
        "    msg = ' '.join(msg)\n",
        "    cleaned.append(msg)\n"
      ],
      "metadata": {
        "execution": {
          "iopub.status.busy": "2021-07-08T18:27:25.082194Z",
          "iopub.execute_input": "2021-07-08T18:27:25.082832Z",
          "iopub.status.idle": "2021-07-08T18:37:28.055533Z",
          "shell.execute_reply.started": "2021-07-08T18:27:25.082792Z",
          "shell.execute_reply": "2021-07-08T18:37:28.054695Z"
        },
        "trusted": true,
        "id": "6dwaMrjo7s0E"
      },
      "execution_count": 20,
      "outputs": []
    },
    {
      "cell_type": "markdown",
      "source": [
        "**re.sub** を使用して正規表現で文字列を置換する  \n",
        "https://uxmilk.jp/8662  \n",
        "正規表現で文字列を置換する場合は re.sub メソッドを使用します。\n",
        "\n",
        "置換後の文字列 = re.sub(**正規表現**, 置換する文字列, 置換される文字列 [, 置換回数])  \n",
        "re.sub メソッドは第１引数に正規表現パターンを指定し、第２引数には置換する文字列を指定し、第３引数には置換される文字列を指定します。第４引数は省略できますが、指定すると指定回数だけ文字列の置換が行われます。"
      ],
      "metadata": {
        "id": "_CdIrlQBTqsq"
      }
    },
    {
      "cell_type": "markdown",
      "source": [
        "**ステミング**とは、単語から語幹を取り出すことです。  \n",
        "ステミングにより、例えば、名詞の単数形と複数形や、動詞の原形と活用形を同一として扱えると理解しています。"
      ],
      "metadata": {
        "id": "UUm-HRuGgk7A"
      }
    },
    {
      "cell_type": "code",
      "source": [
        "#cleaned data with no punctuations,stopwords and all texts in lowercase.\n",
        "cleaned[:5]"
      ],
      "metadata": {
        "execution": {
          "iopub.status.busy": "2021-07-08T18:37:28.056985Z",
          "iopub.execute_input": "2021-07-08T18:37:28.057317Z",
          "iopub.status.idle": "2021-07-08T18:37:28.064471Z",
          "shell.execute_reply.started": "2021-07-08T18:37:28.057282Z",
          "shell.execute_reply": "2021-07-08T18:37:28.063642Z"
        },
        "trusted": true,
        "id": "Y7lQ4Ejj7s0E",
        "colab": {
          "base_uri": "https://localhost:8080/"
        },
        "outputId": "2164a567-f59f-49ab-a54f-912779d77252"
      },
      "execution_count": 24,
      "outputs": [
        {
          "output_type": "execute_result",
          "data": {
            "text/plain": [
              "['gopro share climb drastic first day trade',\n",
              " 'health autism pesticid',\n",
              " 'gym tan fight situat jersey shore charg fight',\n",
              " 'music video shot airport strand travel goe viral',\n",
              " 'world trade center ship found']"
            ]
          },
          "metadata": {},
          "execution_count": 24
        }
      ]
    },
    {
      "cell_type": "code",
      "source": [
        "cleaned[:20] #確認"
      ],
      "metadata": {
        "colab": {
          "base_uri": "https://localhost:8080/"
        },
        "id": "6nqk0vp6dvdg",
        "outputId": "6ce85843-3b8a-476f-f27b-9d2494956378"
      },
      "execution_count": 23,
      "outputs": [
        {
          "output_type": "execute_result",
          "data": {
            "text/plain": [
              "['gopro share climb drastic first day trade',\n",
              " 'health autism pesticid',\n",
              " 'gym tan fight situat jersey shore charg fight',\n",
              " 'music video shot airport strand travel goe viral',\n",
              " 'world trade center ship found',\n",
              " 'treasuri us bond price edg lower ahead yellen testimoni',\n",
              " 'gentleman guid top broadway toni nomin',\n",
              " 'box offic captain america winter soldier trump rio million',\n",
              " 'drew barrymor gave birth second daughter franki barrymor kopelman',\n",
              " 'yellen said portfolio start shrink fed decid rais near',\n",
              " 'got watch ampute toddler take inspir first step walker',\n",
              " 'teva pfizer settl patent lawsuit blockbust painkil',\n",
              " 'jame franco latest broadway newbi hollywood star',\n",
              " 'drought cut wheat crop corn soybean estim unchang',\n",
              " 'drew barrymor releas statement sister jessica found dead car',\n",
              " 'twitter gov request user data increas',\n",
              " 'two much mom mom day fuss mum law',\n",
              " 'student showcas work',\n",
              " 'skin cancer drug roch meet goal late stage test',\n",
              " 'selena gomez date niall horan caught video selena justin bieber']"
            ]
          },
          "metadata": {},
          "execution_count": 23
        }
      ]
    },
    {
      "cell_type": "code",
      "source": [
        "#taking dictionary size 5000\n",
        "dict_size = 5000\n",
        "\n",
        "#one hot encoding\n",
        "one_hot_mat = [one_hot(words,dict_size) for words in cleaned]\n",
        "\n",
        "#now for input as an embedding layer length of all rows should be equal therefore applying padding\n",
        "#this will make size of all rows equal by adding 0 at starting of the shorter rows\n",
        "#size of each row will be equal to length of longest row.\n",
        "embedded_layer = pad_sequences(one_hot_mat,padding = 'pre',maxlen = 150)\n",
        "embedded_layer"
      ],
      "metadata": {
        "execution": {
          "iopub.status.busy": "2021-07-08T18:37:28.066952Z",
          "iopub.execute_input": "2021-07-08T18:37:28.067299Z",
          "iopub.status.idle": "2021-07-08T18:37:35.912565Z",
          "shell.execute_reply.started": "2021-07-08T18:37:28.067263Z",
          "shell.execute_reply": "2021-07-08T18:37:35.911785Z"
        },
        "trusted": true,
        "id": "BOwW121d7s0F",
        "colab": {
          "base_uri": "https://localhost:8080/"
        },
        "outputId": "09039170-0fe9-49c6-fbdf-ff4aedb956a4"
      },
      "execution_count": 25,
      "outputs": [
        {
          "output_type": "execute_result",
          "data": {
            "text/plain": [
              "array([[   0,    0,    0, ..., 2956, 2438, 2589],\n",
              "       [   0,    0,    0, ...,  884, 2882, 4321],\n",
              "       [   0,    0,    0, ..., 1251, 2220, 4631],\n",
              "       ...,\n",
              "       [   0,    0,    0, ..., 2938, 4059,  183],\n",
              "       [   0,    0,    0, ..., 1760, 3943, 1110],\n",
              "       [   0,    0,    0, ...,  628,  867, 1748]], dtype=int32)"
            ]
          },
          "metadata": {},
          "execution_count": 25
        }
      ]
    },
    {
      "cell_type": "code",
      "source": [
        "print(cleaned[2]) #確認\n",
        "print(one_hot_mat[2]) #確認\n",
        "print(embedded_layer[2]) #確認\n",
        "print(embedded_layer.shape) #確認"
      ],
      "metadata": {
        "colab": {
          "base_uri": "https://localhost:8080/"
        },
        "id": "ej_mzN7nohQL",
        "outputId": "c9e70e85-fb47-4e3c-9ed4-46024e4cb515"
      },
      "execution_count": 26,
      "outputs": [
        {
          "output_type": "stream",
          "name": "stdout",
          "text": [
            "gym tan fight situat jersey shore charg fight\n",
            "[4509, 2181, 4631, 3536, 2026, 1251, 2220, 4631]\n",
            "[   0    0    0    0    0    0    0    0    0    0    0    0    0    0\n",
            "    0    0    0    0    0    0    0    0    0    0    0    0    0    0\n",
            "    0    0    0    0    0    0    0    0    0    0    0    0    0    0\n",
            "    0    0    0    0    0    0    0    0    0    0    0    0    0    0\n",
            "    0    0    0    0    0    0    0    0    0    0    0    0    0    0\n",
            "    0    0    0    0    0    0    0    0    0    0    0    0    0    0\n",
            "    0    0    0    0    0    0    0    0    0    0    0    0    0    0\n",
            "    0    0    0    0    0    0    0    0    0    0    0    0    0    0\n",
            "    0    0    0    0    0    0    0    0    0    0    0    0    0    0\n",
            "    0    0    0    0    0    0    0    0    0    0    0    0    0    0\n",
            "    0    0 4509 2181 4631 3536 2026 1251 2220 4631]\n",
            "(422419, 150)\n"
          ]
        }
      ]
    },
    {
      "cell_type": "code",
      "source": [
        "#now creating independent and dependent features\n",
        "x = embedded_layer\n",
        "y = np.array(ds['CATEGORY'])"
      ],
      "metadata": {
        "execution": {
          "iopub.status.busy": "2021-07-08T18:37:35.914137Z",
          "iopub.execute_input": "2021-07-08T18:37:35.91449Z",
          "iopub.status.idle": "2021-07-08T18:37:35.920297Z",
          "shell.execute_reply.started": "2021-07-08T18:37:35.914454Z",
          "shell.execute_reply": "2021-07-08T18:37:35.919426Z"
        },
        "trusted": true,
        "id": "i9_sN3257s0F"
      },
      "execution_count": 27,
      "outputs": []
    },
    {
      "cell_type": "code",
      "source": [
        "#converting categorical values of y using OneHotEncoding\n",
        "le = LabelEncoder()\n",
        "y = le.fit_transform(y)\n",
        "y = to_categorical(y,4)"
      ],
      "metadata": {
        "execution": {
          "iopub.status.busy": "2021-07-08T18:37:35.9216Z",
          "iopub.execute_input": "2021-07-08T18:37:35.922133Z",
          "iopub.status.idle": "2021-07-08T18:37:36.059601Z",
          "shell.execute_reply.started": "2021-07-08T18:37:35.922096Z",
          "shell.execute_reply": "2021-07-08T18:37:36.058743Z"
        },
        "trusted": true,
        "id": "27SUVdmO7s0G"
      },
      "execution_count": 28,
      "outputs": []
    },
    {
      "cell_type": "code",
      "source": [
        "y[:10]"
      ],
      "metadata": {
        "execution": {
          "iopub.status.busy": "2021-07-08T18:37:36.060857Z",
          "iopub.execute_input": "2021-07-08T18:37:36.061389Z",
          "iopub.status.idle": "2021-07-08T18:37:36.068342Z",
          "shell.execute_reply.started": "2021-07-08T18:37:36.061346Z",
          "shell.execute_reply": "2021-07-08T18:37:36.06722Z"
        },
        "trusted": true,
        "id": "IvZ8zJkT7s0G",
        "colab": {
          "base_uri": "https://localhost:8080/"
        },
        "outputId": "3173026d-bf42-43ea-f2d1-2dde9bf49b79"
      },
      "execution_count": 29,
      "outputs": [
        {
          "output_type": "execute_result",
          "data": {
            "text/plain": [
              "array([[1., 0., 0., 0.],\n",
              "       [0., 0., 1., 0.],\n",
              "       [0., 1., 0., 0.],\n",
              "       [0., 1., 0., 0.],\n",
              "       [0., 0., 0., 1.],\n",
              "       [1., 0., 0., 0.],\n",
              "       [0., 1., 0., 0.],\n",
              "       [0., 1., 0., 0.],\n",
              "       [0., 1., 0., 0.],\n",
              "       [1., 0., 0., 0.]], dtype=float32)"
            ]
          },
          "metadata": {},
          "execution_count": 29
        }
      ]
    },
    {
      "cell_type": "code",
      "source": [
        "#splitting the Dataset into Train and Test set\n",
        "x_train,x_test,y_train,y_test=train_test_split(x,y,test_size=0.2,random_state=42)\n",
        "print(x_train.shape,y_train.shape)\n",
        "print(x_test.shape,y_test.shape)"
      ],
      "metadata": {
        "execution": {
          "iopub.status.busy": "2021-07-08T18:37:36.069896Z",
          "iopub.execute_input": "2021-07-08T18:37:36.070293Z",
          "iopub.status.idle": "2021-07-08T18:37:36.215788Z",
          "shell.execute_reply.started": "2021-07-08T18:37:36.070252Z",
          "shell.execute_reply": "2021-07-08T18:37:36.214927Z"
        },
        "trusted": true,
        "id": "cs8gDv8J7s0J",
        "colab": {
          "base_uri": "https://localhost:8080/"
        },
        "outputId": "77a5d930-0c98-44c4-d2c1-742192ac552a"
      },
      "execution_count": 30,
      "outputs": [
        {
          "output_type": "stream",
          "name": "stdout",
          "text": [
            "(337935, 150) (337935, 4)\n",
            "(84484, 150) (84484, 4)\n"
          ]
        }
      ]
    },
    {
      "cell_type": "code",
      "source": [
        "#creating model using LSTM\n",
        "model = Sequential()\n",
        "\n",
        "#taking number features as 50\n",
        "model.add(Embedding(dict_size,50,input_length = len(x[0])))\n",
        "model.add(Dropout(0.2))\n",
        "\n",
        "#adding LSTM layers with 100 neurons\n",
        "model.add(LSTM(100))\n",
        "\n",
        "#adding output layer\n",
        "model.add(Dense(4,activation=\"softmax\"))\n",
        "\n",
        "#compiling the model\n",
        "model.compile(loss=\"categorical_crossentropy\",optimizer='adam',metrics=[\"accuracy\"])\n",
        "\n",
        "#summary of model\n",
        "model.summary()\n",
        "\n",
        "#training the model\n",
        "rnn = model.fit(x_train, y_train, validation_data = (x_test,y_test), epochs = 10, batch_size = 256)"
      ],
      "metadata": {
        "execution": {
          "iopub.status.busy": "2021-07-08T18:37:36.217006Z",
          "iopub.execute_input": "2021-07-08T18:37:36.217376Z",
          "iopub.status.idle": "2021-07-08T18:42:32.711511Z",
          "shell.execute_reply.started": "2021-07-08T18:37:36.217338Z",
          "shell.execute_reply": "2021-07-08T18:42:32.710552Z"
        },
        "trusted": true,
        "id": "CxDsgyno7s0K",
        "colab": {
          "base_uri": "https://localhost:8080/"
        },
        "outputId": "17ae927e-0995-439e-d7b5-4903fb024dbb"
      },
      "execution_count": 31,
      "outputs": [
        {
          "output_type": "stream",
          "name": "stdout",
          "text": [
            "Model: \"sequential\"\n",
            "_________________________________________________________________\n",
            " Layer (type)                Output Shape              Param #   \n",
            "=================================================================\n",
            " embedding (Embedding)       (None, 150, 50)           250000    \n",
            "                                                                 \n",
            " dropout (Dropout)           (None, 150, 50)           0         \n",
            "                                                                 \n",
            " lstm (LSTM)                 (None, 100)               60400     \n",
            "                                                                 \n",
            " dense (Dense)               (None, 4)                 404       \n",
            "                                                                 \n",
            "=================================================================\n",
            "Total params: 310,804\n",
            "Trainable params: 310,804\n",
            "Non-trainable params: 0\n",
            "_________________________________________________________________\n",
            "Epoch 1/10\n",
            "1321/1321 [==============================] - 1046s 789ms/step - loss: 0.3750 - accuracy: 0.8619 - val_loss: 0.2830 - val_accuracy: 0.9017\n",
            "Epoch 2/10\n",
            "1321/1321 [==============================] - 983s 744ms/step - loss: 0.2713 - accuracy: 0.9035 - val_loss: 0.2720 - val_accuracy: 0.9048\n",
            "Epoch 3/10\n",
            "1321/1321 [==============================] - 972s 736ms/step - loss: 0.2526 - accuracy: 0.9102 - val_loss: 0.2592 - val_accuracy: 0.9101\n",
            "Epoch 4/10\n",
            "1321/1321 [==============================] - 964s 730ms/step - loss: 0.2353 - accuracy: 0.9162 - val_loss: 0.2539 - val_accuracy: 0.9118\n",
            "Epoch 5/10\n",
            "1321/1321 [==============================] - 968s 732ms/step - loss: 0.2218 - accuracy: 0.9202 - val_loss: 0.2469 - val_accuracy: 0.9135\n",
            "Epoch 6/10\n",
            "1321/1321 [==============================] - 963s 729ms/step - loss: 0.2106 - accuracy: 0.9241 - val_loss: 0.2462 - val_accuracy: 0.9144\n",
            "Epoch 7/10\n",
            "1321/1321 [==============================] - 965s 731ms/step - loss: 0.2006 - accuracy: 0.9277 - val_loss: 0.2410 - val_accuracy: 0.9171\n",
            "Epoch 8/10\n",
            "1321/1321 [==============================] - 962s 729ms/step - loss: 0.1906 - accuracy: 0.9309 - val_loss: 0.2377 - val_accuracy: 0.9185\n",
            "Epoch 9/10\n",
            "1321/1321 [==============================] - 962s 728ms/step - loss: 0.1821 - accuracy: 0.9343 - val_loss: 0.2389 - val_accuracy: 0.9202\n",
            "Epoch 10/10\n",
            "1321/1321 [==============================] - 959s 726ms/step - loss: 0.1744 - accuracy: 0.9371 - val_loss: 0.2444 - val_accuracy: 0.9201\n"
          ]
        }
      ]
    },
    {
      "cell_type": "code",
      "source": [
        "#evaluating our model\n",
        "model.evaluate(x_test,y_test)"
      ],
      "metadata": {
        "execution": {
          "iopub.status.busy": "2021-07-08T18:42:32.712997Z",
          "iopub.execute_input": "2021-07-08T18:42:32.71335Z",
          "iopub.status.idle": "2021-07-08T18:42:45.437761Z",
          "shell.execute_reply.started": "2021-07-08T18:42:32.713313Z",
          "shell.execute_reply": "2021-07-08T18:42:45.436952Z"
        },
        "trusted": true,
        "id": "pnqfxK9u7s0K",
        "colab": {
          "base_uri": "https://localhost:8080/"
        },
        "outputId": "c99b3adb-e4fb-421a-9341-c703612b65ce"
      },
      "execution_count": 32,
      "outputs": [
        {
          "output_type": "stream",
          "name": "stdout",
          "text": [
            "2641/2641 [==============================] - 116s 44ms/step - loss: 0.2444 - accuracy: 0.9201\n"
          ]
        },
        {
          "output_type": "execute_result",
          "data": {
            "text/plain": [
              "[0.2444448173046112, 0.9200795292854309]"
            ]
          },
          "metadata": {},
          "execution_count": 32
        }
      ]
    },
    {
      "cell_type": "code",
      "source": [
        "#making predictions\n",
        "pred = model.predict(x_test)\n",
        "\n",
        "#saving index of maximum value of pred in preds (because in pred probabilities will come)\n",
        "preds = []\n",
        "for i in range(0,len(pred)):\n",
        "    preds.append(pred[i].argmax())\n",
        "\n",
        "#saving index of maximum value of y_test in actual\n",
        "actual = []\n",
        "for i in range(0,len(y_test)):\n",
        "    actual.append(y_test[i].argmax())\n"
      ],
      "metadata": {
        "execution": {
          "iopub.status.busy": "2021-07-08T18:42:45.438969Z",
          "iopub.execute_input": "2021-07-08T18:42:45.439323Z",
          "iopub.status.idle": "2021-07-08T18:42:54.363938Z",
          "shell.execute_reply.started": "2021-07-08T18:42:45.439285Z",
          "shell.execute_reply": "2021-07-08T18:42:54.363039Z"
        },
        "trusted": true,
        "id": "4MuNU7zY7s0L",
        "colab": {
          "base_uri": "https://localhost:8080/"
        },
        "outputId": "f493cee1-f28f-41e5-8bc4-e5c38f54f60f"
      },
      "execution_count": 33,
      "outputs": [
        {
          "output_type": "stream",
          "name": "stdout",
          "text": [
            "2641/2641 [==============================] - 123s 46ms/step\n"
          ]
        }
      ]
    },
    {
      "cell_type": "code",
      "source": [
        "#classification report\n",
        "from sklearn import metrics\n",
        "report = metrics.classification_report(actual, preds, target_names = ['b','t','e','m'])\n",
        "print(report)"
      ],
      "metadata": {
        "execution": {
          "iopub.status.busy": "2021-07-08T18:42:54.365296Z",
          "iopub.execute_input": "2021-07-08T18:42:54.365646Z",
          "iopub.status.idle": "2021-07-08T18:42:54.579238Z",
          "shell.execute_reply.started": "2021-07-08T18:42:54.365595Z",
          "shell.execute_reply": "2021-07-08T18:42:54.578356Z"
        },
        "trusted": true,
        "id": "klPRzUEa7s0L",
        "colab": {
          "base_uri": "https://localhost:8080/"
        },
        "outputId": "73558142-6af5-48c5-e7bb-8d4893b6b936"
      },
      "execution_count": 34,
      "outputs": [
        {
          "output_type": "stream",
          "name": "stdout",
          "text": [
            "              precision    recall  f1-score   support\n",
            "\n",
            "           b       0.90      0.89      0.90     23246\n",
            "           t       0.94      0.96      0.95     30561\n",
            "           e       0.91      0.90      0.90      9092\n",
            "           m       0.91      0.90      0.90     21585\n",
            "\n",
            "    accuracy                           0.92     84484\n",
            "   macro avg       0.92      0.91      0.91     84484\n",
            "weighted avg       0.92      0.92      0.92     84484\n",
            "\n"
          ]
        }
      ]
    },
    {
      "cell_type": "code",
      "source": [
        "#checking category of a text\n",
        "txt = [\"An apple a day keeps doctor away.\"]\n",
        "\n",
        "#cleaning and preprocessing the text\n",
        "cleaned = []\n",
        "for i in range(0,len(txt)):\n",
        "    msg = re.sub('[^a-zA-Z]',' ',txt[i])\n",
        "    msg = msg.lower()\n",
        "    msg = msg.split()\n",
        "    ps = PorterStemmer()\n",
        "    msg = [ps.stem(words) for words in msg if not words in set(stopwords.words('english'))]\n",
        "    msg = ' '.join(msg)\n",
        "    cleaned.append(msg)\n",
        "\n",
        "#one hot encoding and embedding layer\n",
        "one_hot_mat = [one_hot(words,dict_size) for words in cleaned]\n",
        "embedded_layer = pad_sequences(one_hot_mat,padding = 'pre',maxlen = 150)\n",
        "embedded_layer\n",
        "\n",
        "#prediction\n",
        "pred = model.predict(embedded_layer)\n",
        "cat = ['Business','Science','Entertainment','Health']\n",
        "print(pred, cat[np.argmax(pred)])"
      ],
      "metadata": {
        "execution": {
          "iopub.status.busy": "2021-07-08T18:42:54.580563Z",
          "iopub.execute_input": "2021-07-08T18:42:54.580921Z",
          "iopub.status.idle": "2021-07-08T18:42:54.711029Z",
          "shell.execute_reply.started": "2021-07-08T18:42:54.580884Z",
          "shell.execute_reply": "2021-07-08T18:42:54.710133Z"
        },
        "trusted": true,
        "id": "7rv-twlD7s0L",
        "colab": {
          "base_uri": "https://localhost:8080/"
        },
        "outputId": "aaf06077-bd87-4b79-8929-fa6e61f1e283"
      },
      "execution_count": 35,
      "outputs": [
        {
          "output_type": "stream",
          "name": "stdout",
          "text": [
            "1/1 [==============================] - 1s 563ms/step\n",
            "[[0.01290297 0.00933975 0.07193989 0.9058174 ]] Health\n"
          ]
        }
      ]
    }
  ]
}